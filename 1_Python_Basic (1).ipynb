{
  "nbformat": 4,
  "nbformat_minor": 0,
  "metadata": {
    "colab": {
      "provenance": []
    },
    "kernelspec": {
      "name": "python3",
      "display_name": "Python 3"
    },
    "language_info": {
      "name": "python"
    }
  },
  "cells": [
    {
      "cell_type": "markdown",
      "source": [
        "#\n",
        "Python Basic\n"
      ],
      "metadata": {
        "id": "4rBE17lP1JTe"
      }
    },
    {
      "cell_type": "markdown",
      "source": [
        "1. What is Python, and why is it popular ?\n",
        "\n",
        "-  Python is a high-level, interpreted programming language known for its      simple, readable syntax that resembles English. It supports multiple programming styles, including procedural and object-oriented, making it versatile for different tasks. Python’s dynamic typing and automatic memory management help speed up development and reduce errors.\n",
        "\n",
        "2. What is an interpreter in Python ?\n",
        "\n",
        "-  An interpreter in Python is a program that reads and executes Python code line by line. It converts the high-level Python instructions into an intermediate form called bytecode, which the Python Virtual Machine (PVM) then executes. Unlike a compiler, which translates the entire program before execution, the interpreter processes the code step-by-step, allowing immediate execution and easier debugging. This makes Python a dynamic and interactive language, ideal for quick testing and development.\n",
        "\n",
        "3. What are pre-defined keywords in Python?\n",
        "\n",
        "- Pre-defined keywords in Python are special reserved words that have a fixed meaning and are an essential part of the language syntax. These keywords define the structure and control flow of a Python program and cannot be used as names for variables, functions, or classes. Python has 35 such keywords as of the latest versions, including words like if, else, for, while, def, return, class, import, try, except, True, False, and None.\n",
        "\n",
        "4. Can keywords be used as variable names?\n",
        "\n",
        "-  Keywords cannot be used as variable names in Python. This is because keywords are reserved words that have special meanings in the language syntax, such as if, for, while, and class. Using a keyword as a variable name will result in a syntax error.\n",
        "\n",
        "5. What is mutability in Python?\n",
        "\n",
        "-  Mutability in Python refers to whether an object’s state or content can be changed after it is created. A mutable object can be modified in place; examples include lists, dictionaries, and sets, where you can add, remove, or change elements without creating a new object. Immutable objects, like strings, tuples, and integers, cannot be changed once created—any modification results in a new object.\n",
        "\n",
        "6. Why are lists mutable, but tuples are immutable?\n",
        "\n",
        "-  Lists are mutable in Python because they are designed to be flexible and allow modifications such as adding, removing, or changing elements after creation. This mutability supports dynamic and evolving data collections, making lists suitable for tasks that require frequent updates.\n",
        "\n",
        "7. What is the difference between “==” and “is” operators in Python ?\n",
        "\n",
        "-  The “==” operator in Python checks if two objects have the same value or data, meaning it compares their contents. For example, two lists containing the same elements will be equal using “==”, even if they are different objects in memory.\n",
        "\n",
        "The “is” operator, however, checks whether two variables point to the exact same object in memory, i.e., whether they are identical. If two variables reference the same object, “is” returns True; otherwise, it returns False.\n",
        "\n",
        "In summary, “==” tests equality of values, while “is” tests identity of objects. This distinction is important when comparing mutable objects or ensuring you are referring to the same instance.\n",
        "\n",
        "8. What are logical operators in Python ?\n",
        "\n",
        "-  Logical operators in Python are used to combine multiple conditional statements and return a Boolean result. The main logical operators are:\n",
        "\n",
        "and: Returns True if both conditions are true.\n",
        "\n",
        "or: Returns True if at least one condition is true.\n",
        "\n",
        "not: Reverses the result; returns True if the condition is false.\n",
        "\n",
        "They help in controlling the flow of a program by allowing complex condition checks in decision-making statements. For example, if x > 5 and y < 10: checks if both conditions hold true before executing the code block\n",
        "\n",
        "9. What is type casting in Python?\n",
        "\n",
        "-  Type casting in Python is the process of converting a variable from one data type to another. It allows you to change the data type of a value to perform specific operations that require a particular type. There are two types of type casting in Python:\n",
        "1 implicit\n",
        "2 explicit.\n",
        "\n",
        "10. What is the difference between implicit and explicit type casting?\n",
        "\n",
        "-  Implicit type casting in Python happens automatically when the interpreter converts one data type to another to prevent errors or data loss during operations, such as converting an integer to a float when mixed in an arithmetic calculation. The programmer does not need to specify this conversion.\n",
        "\n",
        "Explicit type casting, on the other hand, is manually performed by the programmer using built-in functions like int(), float(), or str() to convert a value from one type to another explicitly. This provides precise control over data types and is used when automatic conversion isn’t suitable or to avoid unwanted behavior.\n",
        "\n",
        "In summary, implicit casting is automatic and seamless, while explicit casting is a deliberate conversion specified by the user to ensure data accuracy and meaningful program behavior.\n",
        "\n",
        "11. What is the purpose of conditional statements in Python?\n",
        "\n",
        "-  The purpose of conditional statements in Python is to control the flow of a program by making decisions based on specific conditions. They allow the program to execute different blocks of code depending on whether a condition is true or false. This enables dynamic behavior and decision-making in the code.\n",
        "\n",
        "12. How does the elif statement work?\n",
        "\n",
        "-  The elif statement in Python stands for \"else if\" and is used to check multiple conditions sequentially after an initial if statement. When the if condition is false, Python evaluates the elif condition next. If that is true, it executes the associated block of code and skips the rest.\n",
        "\n",
        "You can have multiple elif statements to test various conditions one by one. If none of the if or elif conditions are true, the optional else block executes as a default case.\n",
        "\n",
        "13. What is the difference between for and while loops?\n",
        "\n",
        "-  The main difference between for and while loops in Python lies in their control flow and use cases:\n",
        "\n",
        "A for loop is used when you know in advance how many times you want to iterate. It iterates over a sequence or iterable (like a list, tuple, or range) and executes the loop body for each element. for loops are efficient for fixed or finite iterations.\n",
        "\n",
        "A while loop repeats as long as a specified condition remains true. It is used when the number of iterations is unknown and depends on dynamic conditions evaluated during execution. It continues looping until the condition becomes false.\n",
        "\n",
        "14. Describe a scenario where a while loop is more suitable than a for loop ?\n",
        "\n",
        "-  A while loop is more suitable than a for loop in scenarios where the number of iterations is unknown and depends on a dynamic condition that changes during execution. For example, when waiting for user input until a specific response is given, or when processing data until a certain state is reached (e.g., reading a file until the end or running a game loop until a player quits).\n",
        "\n",
        "Since while loops continue as long as a condition remains true, they provide flexibility for these unpredictable iteration counts, unlike for loops, which require a predetermined sequence or count. This makes while loops ideal for continuous or condition-controlled repetition.\n"
      ],
      "metadata": {
        "id": "5mmoOlYA1sVC"
      }
    },
    {
      "cell_type": "code",
      "execution_count": 1,
      "metadata": {
        "colab": {
          "base_uri": "https://localhost:8080/"
        },
        "id": "outO5QdK0mLd",
        "outputId": "f2b7eb42-b672-4457-d02b-92f21b835e84"
      },
      "outputs": [
        {
          "output_type": "stream",
          "name": "stdout",
          "text": [
            "Hello, World!\n"
          ]
        }
      ],
      "source": [
        "# 1. Write a Python program to print \"Hello, World!?\n",
        "\n",
        "print(\"Hello, World!\")"
      ]
    },
    {
      "cell_type": "code",
      "source": [
        "# 2.Write a Python program that displays your name and age?\n",
        "\n",
        "name = \"Suraj Kumar Jha\"\n",
        "age = 27\n",
        "\n",
        "print(\"Name:\", name)\n",
        "print(\"Age:\", age)"
      ],
      "metadata": {
        "colab": {
          "base_uri": "https://localhost:8080/"
        },
        "id": "64nr-oqC8giC",
        "outputId": "55ad21f4-7019-491d-b322-2c148c3768d6"
      },
      "execution_count": 2,
      "outputs": [
        {
          "output_type": "stream",
          "name": "stdout",
          "text": [
            "Name: Suraj Kumar Jha\n",
            "Age: 27\n"
          ]
        }
      ]
    },
    {
      "cell_type": "code",
      "source": [
        "# 3. Write code to print all the pre-defined keywords in Python using the keyword library?\n",
        "\n",
        "import keyword\n",
        "\n",
        "print(\"Python keywords:\")\n",
        "print(keyword.kwlist)\n"
      ],
      "metadata": {
        "colab": {
          "base_uri": "https://localhost:8080/"
        },
        "id": "JLiS3A7O9UaX",
        "outputId": "7dd29517-48cc-4483-98b1-5d48e41c2e55"
      },
      "execution_count": 3,
      "outputs": [
        {
          "output_type": "stream",
          "name": "stdout",
          "text": [
            "Python keywords:\n",
            "['False', 'None', 'True', 'and', 'as', 'assert', 'async', 'await', 'break', 'class', 'continue', 'def', 'del', 'elif', 'else', 'except', 'finally', 'for', 'from', 'global', 'if', 'import', 'in', 'is', 'lambda', 'nonlocal', 'not', 'or', 'pass', 'raise', 'return', 'try', 'while', 'with', 'yield']\n"
          ]
        }
      ]
    },
    {
      "cell_type": "code",
      "source": [
        "#4. Write a program that checks if a given word is a Python keyword?\n",
        "\n",
        "import keyword\n",
        "\n",
        "word = input(\"Enter a word to check: \")\n",
        "\n",
        "if keyword.iskeyword(word):\n",
        "    print(f\"'{word}' is a Python keyword.\")\n",
        "else:\n",
        "    print(f\"'{word}' is not a Python keyword.\")\n"
      ],
      "metadata": {
        "colab": {
          "base_uri": "https://localhost:8080/"
        },
        "id": "868Hdb8J93Rz",
        "outputId": "63d92a52-25a3-4ec1-f5a5-e3cdadc4dcee"
      },
      "execution_count": 4,
      "outputs": [
        {
          "output_type": "stream",
          "name": "stdout",
          "text": [
            "Enter a word to check: suraj\n",
            "'suraj' is not a Python keyword.\n"
          ]
        }
      ]
    },
    {
      "cell_type": "code",
      "source": [
        "# 5.Create a list and tuple in Python, and demonstrate how attempting to change an element works differently for each ?\n",
        "\n",
        "# Create a list\n",
        "my_list = [10, 20, 30, 40]\n",
        "print(\"Original list:\", my_list)\n",
        "\n",
        "# Modify an element in the list\n",
        "my_list[1] = 25\n",
        "print(\"Modified list:\", my_list)\n",
        "\n",
        "# Create a tuple\n",
        "my_tuple = (100, 200, 300, 400)\n",
        "print(\"Original tuple:\", my_tuple)\n",
        "\n",
        "# Create a list\n",
        "my_list = [10, 20, 30, 40]\n",
        "print(\"Original list:\", my_list)\n",
        "\n",
        "# Modify an element in the list\n",
        "my_list[1] = 25\n",
        "print(\"Modified list:\", my_list)\n",
        "\n",
        "# Create a tuple\n",
        "my_tuple = (100, 200, 300, 400)\n",
        "print(\"Original tuple:\", my_tuple)\n",
        "\n",
        "# Attempt to modify an element in the tuple (will raise an error)\n",
        "try:\n",
        "    my_tuple[1] = 250\n",
        "except TypeError as e:\n",
        "    print(\"Error when modifying tuple:\", e)\n",
        "\n",
        "try:\n",
        "    my_tuple[1] = 250\n",
        "except TypeError as e:\n",
        "    print(\"Error when modifying tuple:\", e)\n",
        "\n"
      ],
      "metadata": {
        "colab": {
          "base_uri": "https://localhost:8080/"
        },
        "id": "FQnAm1xx-art",
        "outputId": "764cd5d4-7279-49f6-ef42-12d633f35b5c"
      },
      "execution_count": 5,
      "outputs": [
        {
          "output_type": "stream",
          "name": "stdout",
          "text": [
            "Original list: [10, 20, 30, 40]\n",
            "Modified list: [10, 25, 30, 40]\n",
            "Original tuple: (100, 200, 300, 400)\n",
            "Error when modifying tuple: 'tuple' object does not support item assignment\n"
          ]
        }
      ]
    },
    {
      "cell_type": "code",
      "source": [
        "# 6.Write a function to demonstrate the behavior of mutable and immutable arguments ?\n",
        "\n",
        "def modify_immutable(x):\n",
        "    print(\"Inside modify_immutable, before change:\", x)\n",
        "    x = 100  # Re-assigning a new value\n",
        "    print(\"Inside modify_immutable, after change:\", x)\n",
        "\n",
        "def modify_mutable(lst):\n",
        "    print(\"Inside modify_mutable, before change:\", lst)\n",
        "    lst.append(100)  # Modifying the original list object\n",
        "    print(\"Inside modify_mutable, after change:\", lst)\n",
        "\n",
        "# Immutable argument example\n",
        "num = 50\n",
        "print(\"Before calling modify_immutable:\", num)\n",
        "modify_immutable(num)\n",
        "print(\"After calling modify_immutable:\", num)\n",
        "\n",
        "print(\"------\")\n",
        "\n",
        "# Mutable argument example\n",
        "my_list = [1, 2, 3]\n",
        "print(\"Before calling modify_mutable:\", my_list)\n",
        "modify_mutable(my_list)\n",
        "print(\"After calling modify_mutable:\", my_list)\n"
      ],
      "metadata": {
        "colab": {
          "base_uri": "https://localhost:8080/"
        },
        "id": "FkSFP7xE-_Z_",
        "outputId": "7e9c6116-d311-403d-8e56-18f2b07a4ce3"
      },
      "execution_count": 6,
      "outputs": [
        {
          "output_type": "stream",
          "name": "stdout",
          "text": [
            "Before calling modify_immutable: 50\n",
            "Inside modify_immutable, before change: 50\n",
            "Inside modify_immutable, after change: 100\n",
            "After calling modify_immutable: 50\n",
            "------\n",
            "Before calling modify_mutable: [1, 2, 3]\n",
            "Inside modify_mutable, before change: [1, 2, 3]\n",
            "Inside modify_mutable, after change: [1, 2, 3, 100]\n",
            "After calling modify_mutable: [1, 2, 3, 100]\n"
          ]
        }
      ]
    },
    {
      "cell_type": "code",
      "source": [
        "# 7. Write a program that performs basic arithmetic operations on two user-input numbers ?\n",
        "\n",
        "# Take input from the user and convert to float\n",
        "num1 = float(input(\"Enter first number: \"))\n",
        "num2 = float(input(\"Enter second number: \"))\n",
        "\n",
        "# Perform arithmetic operations\n",
        "addition = num1 + num2\n",
        "subtraction = num1 - num2\n",
        "multiplication = num1 * num2\n",
        "\n",
        "# Handle division by zero\n",
        "if num2 != 0:\n",
        "    division = num1 / num2\n",
        "else:\n",
        "    division = \"undefined (division by zero)\"\n",
        "\n",
        "# Print results\n",
        "print(f\"Addition: {addition}\")\n",
        "print(f\"Subtraction: {subtraction}\")\n",
        "print(f\"Multiplication: {multiplication}\")\n",
        "print(f\"Division: {division}\")\n"
      ],
      "metadata": {
        "colab": {
          "base_uri": "https://localhost:8080/"
        },
        "id": "2LItZziD_Twc",
        "outputId": "e4db3a02-b656-442d-e300-177093e0d9a8"
      },
      "execution_count": 7,
      "outputs": [
        {
          "output_type": "stream",
          "name": "stdout",
          "text": [
            "Enter first number: 5\n",
            "Enter second number: 4\n",
            "Addition: 9.0\n",
            "Subtraction: 1.0\n",
            "Multiplication: 20.0\n",
            "Division: 1.25\n"
          ]
        }
      ]
    },
    {
      "cell_type": "code",
      "source": [
        "# 8. Write a program to demonstrate the use of logical operators ?\n",
        "\n",
        "# Sample boolean variables\n",
        "x = True\n",
        "y = False\n",
        "\n",
        "# Using logical operators\n",
        "print(\"x and y:\", x and y)  # True only if both x and y are True\n",
        "print(\"x or y:\", x or y)    # True if either x or y is True\n",
        "print(\"not x:\", not x)      # Inverts the value of x\n",
        "print(\"not y:\", not y)      # Inverts the value of y\n",
        "\n",
        "# Logical operators with conditions\n",
        "a = 30\n",
        "b = 40\n",
        "\n",
        "print(\"a > 5 and b < 25:\", a > 5 and b < 25)  # True if both conditions are true\n",
        "print(\"a > 15 or b < 25:\", a > 15 or b < 25)  # True if at least one condition is true\n",
        "print(\"not (a > 5):\", not (a > 5))            # Negates the condition\n",
        "\n",
        "\n"
      ],
      "metadata": {
        "colab": {
          "base_uri": "https://localhost:8080/"
        },
        "id": "HyaLG2-I_w2r",
        "outputId": "f1e81377-6818-4070-fa80-e53587250951"
      },
      "execution_count": 8,
      "outputs": [
        {
          "output_type": "stream",
          "name": "stdout",
          "text": [
            "x and y: False\n",
            "x or y: True\n",
            "not x: False\n",
            "not y: True\n",
            "a > 5 and b < 25: False\n",
            "a > 15 or b < 25: True\n",
            "not (a > 5): False\n"
          ]
        }
      ]
    },
    {
      "cell_type": "code",
      "source": [
        "# 9. Write a Python program to convert user input from string to integer, float, and boolean types.?\n",
        "\n",
        "# Take input from the user as string\n",
        "user_input = input(\"Enter a value: \")\n",
        "\n",
        "# Convert to integer (with error handling)\n",
        "try:\n",
        "    int_value = int(user_input)\n",
        "except ValueError:\n",
        "    int_value = \"Invalid integer\"\n",
        "\n",
        "# Convert to float (with error handling)\n",
        "try:\n",
        "    float_value = float(user_input)\n",
        "except ValueError:\n",
        "    float_value = \"Invalid float\"\n",
        "\n",
        "# Convert to boolean\n",
        "# For demonstration, consider 'true', 'yes', '1' as True, else False\n",
        "bool_value = user_input.strip().lower() in ['true', 'yes', '1']\n",
        "\n",
        "# Print conversions\n",
        "print(f\"Integer conversion: {int_value}\")\n",
        "print(f\"Float conversion: {float_value}\")\n",
        "print(f\"Boolean conversion: {bool_value}\")\n"
      ],
      "metadata": {
        "colab": {
          "base_uri": "https://localhost:8080/"
        },
        "id": "fuSxz7LRAXCu",
        "outputId": "5fb8c768-cb7a-4646-8166-7e525c1e06c9"
      },
      "execution_count": 9,
      "outputs": [
        {
          "output_type": "stream",
          "name": "stdout",
          "text": [
            "Enter a value: 20\n",
            "Integer conversion: 20\n",
            "Float conversion: 20.0\n",
            "Boolean conversion: False\n"
          ]
        }
      ]
    },
    {
      "cell_type": "code",
      "source": [
        "# 10. Write code to demonstrate type casting with list elements?\n",
        "\n",
        "# Original list with string elements\n",
        "str_list = ['10', '20', '30', '40']\n",
        "print(\"Original list of strings:\", str_list)\n",
        "\n",
        "# Convert string elements to integers using list comprehension\n",
        "int_list = [int(item) for item in str_list]\n",
        "print(\"List after casting elements to integers:\", int_list)\n",
        "\n",
        "# Convert string elements to float using list comprehension\n",
        "float_list = [float(item) for item in str_list]\n",
        "print(\"List after casting elements to floats:\", float_list)\n"
      ],
      "metadata": {
        "colab": {
          "base_uri": "https://localhost:8080/"
        },
        "id": "LwU0ra42AusI",
        "outputId": "54739123-2c8d-412c-801a-b8057e583fde"
      },
      "execution_count": 10,
      "outputs": [
        {
          "output_type": "stream",
          "name": "stdout",
          "text": [
            "Original list of strings: ['10', '20', '30', '40']\n",
            "List after casting elements to integers: [10, 20, 30, 40]\n",
            "List after casting elements to floats: [10.0, 20.0, 30.0, 40.0]\n"
          ]
        }
      ]
    },
    {
      "cell_type": "code",
      "source": [
        "# 11. Write a program that checks if a number is positive, negative, or zero?\n",
        "\n",
        "# Take input from user and convert to float\n",
        "num = float(input(\"Enter a number: \"))\n",
        "\n",
        "# Check if the number is positive, negative, or zero\n",
        "if num > 0:\n",
        "    print(\"The number is positive.\")\n",
        "elif num < 0:\n",
        "    print(\"The number is negative.\")\n",
        "else:\n",
        "    print(\"The number is zero.\")\n"
      ],
      "metadata": {
        "colab": {
          "base_uri": "https://localhost:8080/"
        },
        "id": "cPV31qj8BDCI",
        "outputId": "b9b10c9b-ed9a-42ab-8699-0e0b47028dfb"
      },
      "execution_count": 11,
      "outputs": [
        {
          "output_type": "stream",
          "name": "stdout",
          "text": [
            "Enter a number: -5\n",
            "The number is negative.\n"
          ]
        }
      ]
    },
    {
      "cell_type": "code",
      "source": [
        "#12. Write a for loop to print numbers from 1 to 10?\n",
        "\n",
        "for i in range(1, 11):\n",
        "    print(i)\n"
      ],
      "metadata": {
        "colab": {
          "base_uri": "https://localhost:8080/"
        },
        "id": "4bSUvDjEBWt_",
        "outputId": "77547865-c922-410c-e758-307b22acf648"
      },
      "execution_count": 12,
      "outputs": [
        {
          "output_type": "stream",
          "name": "stdout",
          "text": [
            "1\n",
            "2\n",
            "3\n",
            "4\n",
            "5\n",
            "6\n",
            "7\n",
            "8\n",
            "9\n",
            "10\n"
          ]
        }
      ]
    },
    {
      "cell_type": "code",
      "source": [
        "# 13.Write a Python program to find the sum of all even numbers between 1 and 50 ?\n",
        "\n",
        "# Initialize sum variable\n",
        "total = 0\n",
        "\n",
        "# Loop through numbers from 1 to 50\n",
        "for num in range(1, 51):\n",
        "    if num % 2 == 0:\n",
        "        total += num  # Add even numbers to total\n",
        "\n",
        "print(\"Sum of all even numbers between 1 and 50 is:\", total)\n"
      ],
      "metadata": {
        "colab": {
          "base_uri": "https://localhost:8080/"
        },
        "id": "DypMa-LsBkXo",
        "outputId": "552bbc04-1294-48c3-da2c-93c97ea36ce4"
      },
      "execution_count": 13,
      "outputs": [
        {
          "output_type": "stream",
          "name": "stdout",
          "text": [
            "Sum of all even numbers between 1 and 50 is: 650\n"
          ]
        }
      ]
    },
    {
      "cell_type": "code",
      "source": [
        "# 14. Write a program to reverse a string using a while loop?\n",
        "\n",
        "# Input string from user\n",
        "input_str = input(\"Enter a string: \")\n",
        "\n",
        "# Initialize variables\n",
        "reversed_str = \"\"\n",
        "index = len(input_str) - 1\n",
        "\n",
        "# Use while loop to reverse the string\n",
        "while index >= 0:\n",
        "    reversed_str += input_str[index]\n",
        "    index -= 1\n",
        "\n",
        "print(\"Reversed string:\", reversed_str)\n"
      ],
      "metadata": {
        "colab": {
          "base_uri": "https://localhost:8080/"
        },
        "id": "BLkPSJ0qByoY",
        "outputId": "05f631a2-8598-4322-8b00-e77253a80b9c"
      },
      "execution_count": 14,
      "outputs": [
        {
          "output_type": "stream",
          "name": "stdout",
          "text": [
            "Enter a string: 1\n",
            "Reversed string: 1\n"
          ]
        }
      ]
    },
    {
      "cell_type": "code",
      "source": [
        "# 15.Write a Python program to calculate the factorial of a number provided by the user using a while loop ?\n",
        "\n",
        "# Input number from user\n",
        "num = int(input(\"Enter a non-negative integer: \"))\n",
        "\n",
        "# Initialize factorial and counter\n",
        "factorial = 1\n",
        "count = num\n",
        "\n",
        "# Calculate factorial using while loop\n",
        "while count > 1:\n",
        "    factorial *= count\n",
        "    count -= 1\n",
        "\n",
        "print(f\"Factorial of {num} is {factorial}\")\n"
      ],
      "metadata": {
        "colab": {
          "base_uri": "https://localhost:8080/"
        },
        "id": "PYWjWWKlCHrv",
        "outputId": "d5d309b9-4cb9-4ef7-a9a2-662a84810f45"
      },
      "execution_count": 15,
      "outputs": [
        {
          "output_type": "stream",
          "name": "stdout",
          "text": [
            "Enter a non-negative integer: 5\n",
            "Factorial of 5 is 120\n"
          ]
        }
      ]
    }
  ]
}